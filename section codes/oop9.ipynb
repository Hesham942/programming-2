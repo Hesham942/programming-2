{
 "cells": [
  {
   "cell_type": "code",
   "execution_count": 1,
   "id": "4e3d8bba-f5e2-4b2d-8688-59bdacd2de5b",
   "metadata": {},
   "outputs": [],
   "source": [
    "def product(a, b):\n",
    "\tp = a * b\n",
    "\tprint(p)"
   ]
  },
  {
   "cell_type": "code",
   "execution_count": 2,
   "id": "b41c9a0f-e15b-4380-a45c-d700ca078964",
   "metadata": {},
   "outputs": [],
   "source": [
    "def product(a, b, c):\n",
    "\tp = a * b*c\n",
    "\tprint(p)"
   ]
  },
  {
   "cell_type": "code",
   "execution_count": 3,
   "id": "ca1373a0-2172-4a14-b0b1-88d068be5473",
   "metadata": {
    "scrolled": true
   },
   "outputs": [
    {
     "ename": "TypeError",
     "evalue": "product() missing 1 required positional argument: 'c'",
     "output_type": "error",
     "traceback": [
      "\u001b[1;31m---------------------------------------------------------------------------\u001b[0m",
      "\u001b[1;31mTypeError\u001b[0m                                 Traceback (most recent call last)",
      "Cell \u001b[1;32mIn[3], line 1\u001b[0m\n\u001b[1;32m----> 1\u001b[0m \u001b[43mproduct\u001b[49m\u001b[43m(\u001b[49m\u001b[38;5;241;43m4\u001b[39;49m\u001b[43m,\u001b[49m\u001b[43m \u001b[49m\u001b[38;5;241;43m5\u001b[39;49m\u001b[43m)\u001b[49m\n",
      "\u001b[1;31mTypeError\u001b[0m: product() missing 1 required positional argument: 'c'"
     ]
    }
   ],
   "source": [
    "product(4, 5)"
   ]
  },
  {
   "cell_type": "code",
   "execution_count": 4,
   "id": "977c4c8f-0682-4427-b9d4-c0a6e6b24401",
   "metadata": {},
   "outputs": [
    {
     "name": "stdout",
     "output_type": "stream",
     "text": [
      "11\n",
      " Hi Hesham\n"
     ]
    }
   ],
   "source": [
    "def add(datatype, *args):\n",
    "    if datatype == 'int':\n",
    "        answer =0\n",
    "    if datatype == 'str':\n",
    "        answer = ' '\n",
    "\n",
    "    for x in args:\n",
    "    \tanswer = answer + x\n",
    "\n",
    "    print(answer)\n",
    "add('int', 5, 6)\n",
    "\n",
    "\n",
    "add('str', 'Hi ', 'Hesham')\n"
   ]
  },
  {
   "cell_type": "code",
   "execution_count": 5,
   "id": "c86fb70c-91a3-4bd1-8a38-474040cf3963",
   "metadata": {},
   "outputs": [],
   "source": [
    "def add(a=None, b=None):\n",
    "\tif a != None and b == None:\n",
    "\t\tprint(a)\n",
    "\telse:\n",
    "\t\tprint(a+b)        "
   ]
  },
  {
   "cell_type": "code",
   "execution_count": 6,
   "id": "2147b0f6-784f-494d-a847-c36430edb8f4",
   "metadata": {},
   "outputs": [
    {
     "name": "stdout",
     "output_type": "stream",
     "text": [
      "5\n",
      "2\n"
     ]
    }
   ],
   "source": [
    "add(2, 3)\n",
    "add(2)"
   ]
  },
  {
   "cell_type": "code",
   "execution_count": 7,
   "id": "3020ec18-a954-4785-94a5-0e71491344c3",
   "metadata": {},
   "outputs": [
    {
     "name": "stdout",
     "output_type": "stream",
     "text": [
      "8\n",
      "64\n",
      "14.783999999999999\n",
      "Hesham Hatem mohamed\n"
     ]
    }
   ],
   "source": [
    "from multipledispatch import dispatch\n",
    "@dispatch(int,int)\n",
    "def product(a,b):\n",
    "    print(a * b)\n",
    "@dispatch(int,int,int)\n",
    "def product (a,b,c):\n",
    "    print(a*b*c)\n",
    "@dispatch(float,float,float)\n",
    "def product (a,b,c):\n",
    "    print(a*b*c)\n",
    "@dispatch(str,str,str)\n",
    "def product (a,b,c):\n",
    "    print(a+b+c)    \n",
    "product(2,4)\n",
    "product(2,4,8)\n",
    "product(2.2,2.4,2.8)\n",
    "product(\"Hesham \",\"Hatem \",\"mohamed\")"
   ]
  },
  {
   "cell_type": "code",
   "execution_count": null,
   "id": "13fd4e18-3007-490e-995e-fce86153887f",
   "metadata": {},
   "outputs": [],
   "source": []
  }
 ],
 "metadata": {
  "kernelspec": {
   "display_name": "Python 3 (ipykernel)",
   "language": "python",
   "name": "python3"
  },
  "language_info": {
   "codemirror_mode": {
    "name": "ipython",
    "version": 3
   },
   "file_extension": ".py",
   "mimetype": "text/x-python",
   "name": "python",
   "nbconvert_exporter": "python",
   "pygments_lexer": "ipython3",
   "version": "3.11.5"
  }
 },
 "nbformat": 4,
 "nbformat_minor": 5
}
