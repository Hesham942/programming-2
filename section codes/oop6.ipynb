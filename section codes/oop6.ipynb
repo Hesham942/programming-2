{
 "cells": [
  {
   "cell_type": "code",
   "execution_count": 1,
   "id": "e777eba0-072e-4883-bb9c-ffac61d48dfe",
   "metadata": {},
   "outputs": [],
   "source": [
    "class A(): \n",
    "\tdef __init__(self, x): \n",
    "\t\tself.x = x \n",
    "\t\n",
    "\tdef getX(self): \n",
    "\t\treturn self.X "
   ]
  },
  {
   "cell_type": "code",
   "execution_count": 2,
   "id": "fe242169-579a-4c2e-b833-b0cb51b68053",
   "metadata": {},
   "outputs": [],
   "source": [
    "class B(): \n",
    "\tdef __init__(self, x, y): \n",
    "\t\tself.x = x \n",
    "\t\tself.y = y \n",
    "\tdef getSum(self): \n",
    "\t\treturn self.X + self.y "
   ]
  },
  {
   "cell_type": "code",
   "execution_count": 3,
   "id": "988f6747-39fb-4607-a410-f454592a9585",
   "metadata": {},
   "outputs": [],
   "source": [
    "class C_A(A): \n",
    "\tdef isA(self): \n",
    "\t\treturn True\n",
    "\t\n",
    "\tdef isB(self): \n",
    "\t\treturn False"
   ]
  },
  {
   "cell_type": "code",
   "execution_count": 4,
   "id": "4c66e2d7-43d6-4d19-8838-273c6764b945",
   "metadata": {},
   "outputs": [],
   "source": [
    "class C_B(B): \n",
    "\tdef isA(self): \n",
    "\t\treturn False\n",
    "\t\n",
    "\tdef isB(self): \n",
    "\t\treturn True"
   ]
  },
  {
   "cell_type": "code",
   "execution_count": 5,
   "id": "c9ecb5e5-d72a-4adc-9815-ff4267329eff",
   "metadata": {},
   "outputs": [],
   "source": [
    "def getC(cond): \n",
    "\tif cond: \n",
    "\t\treturn C_A(1) \n",
    "\telse: \n",
    "\t\treturn C_B(1,2) "
   ]
  },
  {
   "cell_type": "code",
   "execution_count": 6,
   "id": "62ca8c3c-36ff-4d9d-93f6-85598d3866ad",
   "metadata": {},
   "outputs": [
    {
     "name": "stdout",
     "output_type": "stream",
     "text": [
      "True\n",
      "False\n"
     ]
    }
   ],
   "source": [
    "ca = getC(True) \n",
    "print(ca.isA()) \n",
    "print(ca.isB()) "
   ]
  },
  {
   "cell_type": "code",
   "execution_count": 7,
   "id": "95abd1a9-3058-4867-9bdf-d8058364eb58",
   "metadata": {},
   "outputs": [
    {
     "name": "stdout",
     "output_type": "stream",
     "text": [
      "False\n",
      "True\n"
     ]
    }
   ],
   "source": [
    "cb = getC(False) \n",
    "print(cb.isA()) \n",
    "print(cb.isB())"
   ]
  },
  {
   "cell_type": "code",
   "execution_count": 8,
   "id": "bb5748b1-1e03-475b-a459-69ead43d664f",
   "metadata": {},
   "outputs": [],
   "source": [
    "class A(object): \n",
    "\tdef __init__(self, x): \n",
    "\t\tself.x = x \n",
    "\t\n",
    "\tdef getX(self): \n",
    "\t\treturn self.X "
   ]
  },
  {
   "cell_type": "code",
   "execution_count": 9,
   "id": "0d0560fd-4961-479c-98c0-e7ff58f42e77",
   "metadata": {},
   "outputs": [],
   "source": [
    "cond = True"
   ]
  },
  {
   "cell_type": "code",
   "execution_count": 10,
   "id": "8e002c8a-eaad-47be-ba5b-8603c053c758",
   "metadata": {},
   "outputs": [],
   "source": [
    "class C(A if cond else object): \n",
    "\tdef isA(self): \n",
    "\t\treturn True"
   ]
  },
  {
   "cell_type": "code",
   "execution_count": 12,
   "id": "4329daef-f217-4253-b390-ecef5cfcec0c",
   "metadata": {},
   "outputs": [
    {
     "name": "stdout",
     "output_type": "stream",
     "text": [
      "True\n"
     ]
    }
   ],
   "source": [
    "ca = C(1) \n",
    "print(ca.isA())"
   ]
  },
  {
   "cell_type": "code",
   "execution_count": null,
   "id": "582b13cd-ddec-4b7c-8505-39d8fc67e0f0",
   "metadata": {},
   "outputs": [],
   "source": []
  }
 ],
 "metadata": {
  "kernelspec": {
   "display_name": "Python 3 (ipykernel)",
   "language": "python",
   "name": "python3"
  },
  "language_info": {
   "codemirror_mode": {
    "name": "ipython",
    "version": 3
   },
   "file_extension": ".py",
   "mimetype": "text/x-python",
   "name": "python",
   "nbconvert_exporter": "python",
   "pygments_lexer": "ipython3",
   "version": "3.11.5"
  }
 },
 "nbformat": 4,
 "nbformat_minor": 5
}
