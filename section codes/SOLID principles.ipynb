{
 "cells": [
  {
   "cell_type": "markdown",
   "id": "74f09b84-ba6e-49bc-bfd6-9b3e4da37c90",
   "metadata": {},
   "source": [
    "## Single Resbonsibility"
   ]
  },
  {
   "cell_type": "markdown",
   "id": "69dbba54-c585-49e7-9a31-79bd58313b28",
   "metadata": {},
   "source": [
    "### Violation of SRP"
   ]
  },
  {
   "cell_type": "code",
   "execution_count": 1,
   "id": "8d8522d5-9a2e-4a68-9367-6cdf0a5b71dc",
   "metadata": {},
   "outputs": [],
   "source": [
    "class account:\n",
    "    def __init__(self,account_no):\n",
    "        self.account_no=account_no\n",
    "    def getAccNo(self):\n",
    "        return self.account_no\n",
    "    def save(self):\n",
    "        pass"
   ]
  },
  {
   "cell_type": "markdown",
   "id": "b462c646-b7d8-4503-b313-b645aa60d543",
   "metadata": {},
   "source": [
    "### solution"
   ]
  },
  {
   "cell_type": "code",
   "execution_count": 2,
   "id": "0da094d4-fc9b-484d-ab2b-51c694032526",
   "metadata": {},
   "outputs": [],
   "source": [
    "class accountDB:\n",
    "   def get_account_number(self, _id):\n",
    "       pass\n",
    "\n",
    "   def account_save(self, obj):\n",
    "       pass\n",
    "\n",
    "class Account:\n",
    "   def __init__(self, account_no):\n",
    "       self.account_no = account_no\n",
    "       self._db = accountDB()\n",
    "\n",
    "   def get_account_number(self):\n",
    "       return self.account_no\n",
    "\n",
    "   def get(self, _id):\n",
    "       return self._db.get_account_number(_id=_id)\n",
    "\n",
    "   def save(self):\n",
    "      self._db.account_save(obj=self)"
   ]
  },
  {
   "cell_type": "markdown",
   "id": "a6284a94-99fc-48b2-b611-a87141c071b7",
   "metadata": {},
   "source": [
    "## Open-Closed Principle"
   ]
  },
  {
   "cell_type": "markdown",
   "id": "c35279a4-d0f7-4e7b-892b-c358d9ae281b",
   "metadata": {},
   "source": [
    "### Violations of OCP"
   ]
  },
  {
   "cell_type": "code",
   "execution_count": 3,
   "id": "f55cee3c-ab73-4342-b570-69014d6c34c2",
   "metadata": {},
   "outputs": [],
   "source": [
    "from math import pi\n",
    "class Shape:\n",
    "    def __init__(self, shape_type, **kwargs):\n",
    "        self.shape_type = shape_type\n",
    "        if self.shape_type == \"rectangle\":\n",
    "            self.width = kwargs[\"width\"]\n",
    "            self.height = kwargs[\"height\"]\n",
    "        elif self.shape_type == \"circle\":\n",
    "            self.radius = kwargs[\"radius\"]\n",
    "    def calculate_area(self):\n",
    "        if self.shape_type == \"rectangle\":\n",
    "            return self.width * self.height\n",
    "        elif self.shape_type == \"circle\":\n",
    "            return pi * self.radius**2\n"
   ]
  },
  {
   "cell_type": "markdown",
   "id": "8e81f873-870a-4bdf-94a9-20c55ce84a1e",
   "metadata": {},
   "source": [
    "### solution"
   ]
  },
  {
   "cell_type": "code",
   "execution_count": 5,
   "id": "96a81d94-578d-4010-8f33-2bdb609c1f70",
   "metadata": {},
   "outputs": [],
   "source": [
    "from abc import ABC, abstractmethod\n",
    "from math import pi\n",
    "class Shape(ABC):\n",
    "    def __init__(self, shape_type):\n",
    "        self.shape_type = shape_type\n",
    "    @abstractmethod\n",
    "    def calculate_area(self):\n",
    "        pass\n",
    "class Circle(Shape):\n",
    "    def __init__(self, radius):\n",
    "        super().__init__(\"circle\")\n",
    "        self.radius = radius\n",
    "    def calculate_area(self):\n",
    "        return pi * self.radius**2\n",
    "class Rectangle(Shape):\n",
    "    def __init__(self, width, height):\n",
    "        super().__init__(\"rectangle\")\n",
    "        self.width = width\n",
    "        self.height = height\n",
    "    def calculate_area(self):\n",
    "        return self.width * self.height\n",
    "class Square(Shape):\n",
    "    def __init__(self, side):\n",
    "        super().__init__(\"square\")\n",
    "        self.side = side\n",
    "    def calculate_area(self):\n",
    "        return self.side**2\n"
   ]
  },
  {
   "cell_type": "markdown",
   "id": "9a34ca0e-1e7d-460a-a2e5-474b8c79a749",
   "metadata": {},
   "source": [
    "## Liskov Substitution Principle"
   ]
  },
  {
   "cell_type": "markdown",
   "id": "a8d103f8-79ef-4767-a493-574011c7feb0",
   "metadata": {},
   "source": [
    "### Violations of LSP"
   ]
  },
  {
   "cell_type": "code",
   "execution_count": 6,
   "id": "9a0a3833-9652-4ebc-b3b6-f3d65005027f",
   "metadata": {},
   "outputs": [],
   "source": [
    "class Vehicle:\n",
    "   def __init__(self, name,speed):\n",
    "       self.name = name\n",
    "       self.speed = speed\n",
    "\n",
    "   def get_name(self) -> str:\n",
    "       return f\"The vehicle name {self.name}\"\n",
    "\n",
    "   def get_speed(self) -> str:\n",
    "       return f\"The vehicle speed {self.speed}\"\n",
    "\n",
    "   def engine(self):\n",
    "       pass\n",
    "\n",
    "   def start_engine(self):\n",
    "       self.engine()\n",
    "\n",
    "\n",
    "class Car(Vehicle):\n",
    "   def start_engine(self):\n",
    "       pass\n",
    "\n",
    "\n",
    "class Bicycle(Vehicle):\n",
    "   def start_engine(self):\n",
    "       pass"
   ]
  },
  {
   "cell_type": "markdown",
   "id": "dbe5c82a-b2d8-441a-a464-6e6e5d6851f7",
   "metadata": {},
   "source": [
    "### Solution"
   ]
  },
  {
   "cell_type": "code",
   "execution_count": 9,
   "id": "2a41479e-7278-4e51-bbe0-38003e2b6429",
   "metadata": {},
   "outputs": [],
   "source": [
    "class Vehicle:\n",
    "    def __init__(self, name,speed):\n",
    "       self.name = name\n",
    "       self.speed = speed\n",
    "    def get_name(self) -> str:\n",
    "       return f\"The vehicle name {self.name}\"\n",
    "    def get_speed(self) -> str:\n",
    "       return f\"The vehicle speed {self.speed}\"\n",
    "class VehicleWithoutEngine(Vehicle):\n",
    "   def start_moving(self):\n",
    "      raise NotImplemented\n",
    "class VehicleWithEngine(Vehicle):\n",
    "   def engine(self):\n",
    "      pass\n",
    "   def start_engine(self):\n",
    "      self.engine()\n",
    "class Car(VehicleWithEngine):\n",
    "   def start_engine(self):\n",
    "       pass\n",
    "class Bicycle(VehicleWithoutEngine):\n",
    "   def start_moving(self):\n",
    "       pass"
   ]
  },
  {
   "cell_type": "markdown",
   "id": "e2933298-c9ff-4cd2-8769-d6eb3dd0e720",
   "metadata": {},
   "source": [
    "## Interface Segregation "
   ]
  },
  {
   "cell_type": "markdown",
   "id": "9fe10352-2dcf-4937-bfcc-90c7bb23e3c5",
   "metadata": {},
   "source": [
    "### violations of LSB"
   ]
  },
  {
   "cell_type": "code",
   "execution_count": 10,
   "id": "e0cc5f1a-da9a-46fa-8bc9-194b5c506a09",
   "metadata": {},
   "outputs": [],
   "source": [
    "from abc import ABC, abstractmethod\n",
    "class Printer:\n",
    "    @abstractmethod\n",
    "    def print(self,doc):\n",
    "        pass\n",
    "    @abstractmethod\n",
    "    def fax(self,doc):\n",
    "        pass\n",
    "    @abstractmethod\n",
    "    def scan(self,doc):\n",
    "        pass\n",
    "class OldPrinter(Printer):\n",
    "    def print(self, document):\n",
    "        print(f\"Printing {document} in black and white...\")\n",
    "    def fax(self, document):\n",
    "        raise NotImplementedError(\"Fax functionality not supported\")\n",
    "    def scan(self, document):\n",
    "        raise NotImplementedError(\"Scan functionality not supported\")\n",
    "class ModernPrinter(Printer):\n",
    "    def print(self, document):\n",
    "        print(f\"Printing {document} in color...\")\n",
    "    def fax(self, document):\n",
    "        print(f\"Faxing {document}...\")\n",
    "    def scan(self, document):\n",
    "        print(f\"Scanning {document}...\")"
   ]
  },
  {
   "cell_type": "markdown",
   "id": "1da0e5b8-54de-464f-b91e-79209264d0ae",
   "metadata": {},
   "source": [
    "### solution"
   ]
  },
  {
   "cell_type": "code",
   "execution_count": 13,
   "id": "43d64595-2c92-4fe6-87ba-f6def29c1e73",
   "metadata": {},
   "outputs": [],
   "source": [
    "from abc import ABC, abstractmethod\n",
    "class Printer(ABC):\n",
    "    @abstractmethod\n",
    "    def print(self, document):\n",
    "        pass\n",
    "class Fax(ABC):\n",
    "    @abstractmethod\n",
    "    def fax(self, document):\n",
    "         pass\n",
    "class Scanner(ABC):\n",
    "    @abstractmethod\n",
    "    def scan(self, document):\n",
    "        pass\n",
    "class OldPrinter(Printer):\n",
    "    def print(self, document):\n",
    "        print(f\"Printing {document} in black and white...\")\n",
    "class NewPrinter(Printer, Fax, Scanner):\n",
    "    def print(self, document):\n",
    "        print(f\"Printing {document} in color...\")\n",
    "    def fax(self, document):\n",
    "        print(f\"Faxing {document}...\")\n",
    "    def scan(self, document):\n",
    "        print(f\"Scanning {document}...\")\n"
   ]
  },
  {
   "cell_type": "markdown",
   "id": "5b0a9f81-b1a5-41b4-8f59-9fd97a9d9a89",
   "metadata": {},
   "source": [
    "### Dependency Inversion "
   ]
  },
  {
   "cell_type": "markdown",
   "id": "c5831c4c-dad3-4160-9482-96d14799197d",
   "metadata": {},
   "source": [
    "### Violations of DIP"
   ]
  },
  {
   "cell_type": "code",
   "execution_count": 14,
   "id": "d008ed56-6ac8-41c6-b0e0-0cecd6fac03a",
   "metadata": {},
   "outputs": [],
   "source": [
    "class FrontEnd:\n",
    "    def __init__(self, back_end):\n",
    "        self.back_end = back_end\n",
    "    def display_data(self):\n",
    "        data = self.back_end.get_data_from_database()\n",
    "        print(\"Display data:\", data)\n",
    "class BackEnd:\n",
    "    def get_data_from_database(self):\n",
    "        return \"Data from the database\""
   ]
  },
  {
   "cell_type": "markdown",
   "id": "ef0ccbe6-2135-49f4-a919-73ee2ebf8d9e",
   "metadata": {},
   "source": [
    "### Solution"
   ]
  },
  {
   "cell_type": "code",
   "execution_count": 15,
   "id": "f791defc-245e-4b87-ac6c-1a324d8565ae",
   "metadata": {},
   "outputs": [],
   "source": [
    "from abc import ABC, abstractmethod\n",
    "class FrontEnd:\n",
    "    def __init__(self, data_source):\n",
    "        self.data_source = data_source\n",
    "    def display_data(self):\n",
    "        data = self.data_source.get_data()\n",
    "        print(\"Display data:\", data)\n",
    "class DataSource(ABC):\n",
    "    @abstractmethod\n",
    "    def get_data(self):\n",
    "        pass\n",
    "class Database(DataSource):\n",
    "    def get_data(self):\n",
    "        return \"Data from the database\"\n",
    "class API(DataSource):\n",
    "    def get_data(self):\n",
    "        return \"Data from the API\""
   ]
  }
 ],
 "metadata": {
  "kernelspec": {
   "display_name": "Python 3 (ipykernel)",
   "language": "python",
   "name": "python3"
  },
  "language_info": {
   "codemirror_mode": {
    "name": "ipython",
    "version": 3
   },
   "file_extension": ".py",
   "mimetype": "text/x-python",
   "name": "python",
   "nbconvert_exporter": "python",
   "pygments_lexer": "ipython3",
   "version": "3.11.5"
  }
 },
 "nbformat": 4,
 "nbformat_minor": 5
}
