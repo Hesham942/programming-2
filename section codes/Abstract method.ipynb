{
 "cells": [
  {
   "cell_type": "code",
   "execution_count": 1,
   "id": "11687a19-4488-4899-bbb9-a5cd315bc010",
   "metadata": {},
   "outputs": [],
   "source": [
    "from abc import ABC, abstractmethod"
   ]
  },
  {
   "cell_type": "code",
   "execution_count": 2,
   "id": "cebb8e84-b228-423a-a951-78cb53bf5b36",
   "metadata": {},
   "outputs": [],
   "source": [
    "class polygon(ABC):\n",
    "    @abstractmethod\n",
    "    def noofsides(self):\n",
    "        pass"
   ]
  },
  {
   "cell_type": "code",
   "execution_count": 3,
   "id": "992c59db-d0d0-4fb0-8f6f-47c838df4a05",
   "metadata": {},
   "outputs": [],
   "source": [
    "class Triangle(polygon): #3\n",
    "    def noofsides(self):\n",
    "        print(\"i have 3 sides \") "
   ]
  },
  {
   "cell_type": "code",
   "execution_count": 4,
   "id": "c63a90a2-4fa0-4c87-a0a3-58bff4001f22",
   "metadata": {},
   "outputs": [],
   "source": [
    "class Quadrilateral(polygon):  #4\n",
    "    def noofsides(self):\n",
    "        print(\"i have 4 sides \")     "
   ]
  },
  {
   "cell_type": "code",
   "execution_count": 5,
   "id": "9b804f3d-e64a-4a8e-8b89-08d95c4bf765",
   "metadata": {},
   "outputs": [],
   "source": [
    "class Pentagon(polygon):  #5\n",
    "    def noofsides(self):\n",
    "        print(\"i have 5 sides \")     "
   ]
  },
  {
   "cell_type": "code",
   "execution_count": 6,
   "id": "3013a4d8-3bf8-4ea6-be1c-50cf5e659421",
   "metadata": {},
   "outputs": [],
   "source": [
    "class Hexagon(polygon):  #6\n",
    "    def noofsides(self):\n",
    "        print(\"i have 6 sides \")     "
   ]
  },
  {
   "cell_type": "code",
   "execution_count": 7,
   "id": "3c2ff6a8-281f-450b-815e-eedc4313e29f",
   "metadata": {},
   "outputs": [
    {
     "name": "stdout",
     "output_type": "stream",
     "text": [
      "i have 3 sides \n"
     ]
    }
   ],
   "source": [
    "t=Triangle()\n",
    "t.noofsides()"
   ]
  },
  {
   "cell_type": "code",
   "execution_count": 8,
   "id": "1e767a84-5376-4208-a1f3-fa62bcff615d",
   "metadata": {},
   "outputs": [
    {
     "name": "stdout",
     "output_type": "stream",
     "text": [
      "i have 4 sides \n"
     ]
    }
   ],
   "source": [
    "q=Quadrilateral()\n",
    "q.noofsides()"
   ]
  },
  {
   "cell_type": "code",
   "execution_count": 9,
   "id": "b2dbc6e1-1708-435b-b15f-e46130ff67e4",
   "metadata": {},
   "outputs": [
    {
     "name": "stdout",
     "output_type": "stream",
     "text": [
      "i have 5 sides \n"
     ]
    }
   ],
   "source": [
    "p=Pentagon()\n",
    "p.noofsides()"
   ]
  },
  {
   "cell_type": "code",
   "execution_count": 10,
   "id": "13a0c8e2-b69d-468c-a28d-c6b86c999d72",
   "metadata": {},
   "outputs": [
    {
     "name": "stdout",
     "output_type": "stream",
     "text": [
      "i have 6 sides \n"
     ]
    }
   ],
   "source": [
    "h=Hexagon()\n",
    "h.noofsides()"
   ]
  }
 ],
 "metadata": {
  "kernelspec": {
   "display_name": "Python 3 (ipykernel)",
   "language": "python",
   "name": "python3"
  },
  "language_info": {
   "codemirror_mode": {
    "name": "ipython",
    "version": 3
   },
   "file_extension": ".py",
   "mimetype": "text/x-python",
   "name": "python",
   "nbconvert_exporter": "python",
   "pygments_lexer": "ipython3",
   "version": "3.11.5"
  }
 },
 "nbformat": 4,
 "nbformat_minor": 5
}
