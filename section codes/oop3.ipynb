{
 "cells": [
  {
   "cell_type": "code",
   "execution_count": 1,
   "id": "2092f5cf-bc40-4d6c-bba6-d1342c6d6713",
   "metadata": {},
   "outputs": [],
   "source": [
    "class Person:\n",
    "\tdef __init__(self, name):\n",
    "\t\tself.name = name\n",
    "\n",
    "\tdef getName(self):\n",
    "\t\treturn self.name\n",
    "\tdef is_std(self):\n",
    "\t\treturn False\n",
    "\n",
    "class student(Person):\n",
    "\n",
    "\tdef is_std(self):\n",
    "\t\treturn True"
   ]
  },
  {
   "cell_type": "code",
   "execution_count": 2,
   "id": "77501c7b-4958-465b-9eca-900f7b7893ba",
   "metadata": {},
   "outputs": [
    {
     "name": "stdout",
     "output_type": "stream",
     "text": [
      "Hesham False\n"
     ]
    }
   ],
   "source": [
    "person = Person(\"Hesham\")\n",
    "print(person.getName(), person.is_std())"
   ]
  },
  {
   "cell_type": "code",
   "execution_count": 3,
   "id": "3dce6e6d-3e9b-4cfe-ad05-75e9e9b58c48",
   "metadata": {},
   "outputs": [
    {
     "name": "stdout",
     "output_type": "stream",
     "text": [
      "mohamed True\n"
     ]
    }
   ],
   "source": [
    "std = student(\"mohamed\")\n",
    "print(std.getName(), std.is_std())"
   ]
  },
  {
   "cell_type": "code",
   "execution_count": 4,
   "id": "e7fcd0c6-797d-4bda-878b-d24cd3993b64",
   "metadata": {},
   "outputs": [],
   "source": [
    "class pubil:\n",
    "\n",
    "\tdef __init__(self, name, level):\n",
    "\t\tself.name = name\n",
    "\t\tself.level = level\n",
    "\n",
    "\tdef display(self):\n",
    "\t\tprint(self.name)\n",
    "\t\tprint(self.level)\n",
    "class std(pubil):\n",
    "\tdef __init__(self, name, level,grades):\n",
    "\t\tself.grades = grades\n",
    "\t\tpubil.__init__(self, name,level)"
   ]
  },
  {
   "cell_type": "code",
   "execution_count": 5,
   "id": "db9f109b-3c4f-42a7-bcd1-9dac0a712175",
   "metadata": {},
   "outputs": [
    {
     "name": "stdout",
     "output_type": "stream",
     "text": [
      "Rahul\n",
      "level 4\n"
     ]
    }
   ],
   "source": [
    "a = std('Rahul', \"level 4\", 175 )\n",
    "a.display()"
   ]
  },
  {
   "cell_type": "code",
   "execution_count": 6,
   "id": "5808e034-7883-4981-800c-dba9a950bda9",
   "metadata": {},
   "outputs": [],
   "source": [
    "class car():\n",
    "    def __init__(self, name, type):\n",
    "    \tself.name = name\n",
    "    \tself.type = type\n",
    "    \n",
    "    def display(self):\n",
    "    \tprint(self.name, self.type)\n",
    "\n",
    "class scar(car):\n",
    "    def __init__(self, name, type):\n",
    "    \tself.sName = name\n",
    "    \tself.sType = type\n",
    "    \tsuper().__init__(\"porche\", type)\n",
    "    \n",
    "    def displayInfo(self):\n",
    "    \tprint(self.sName, self.sType)"
   ]
  },
  {
   "cell_type": "code",
   "execution_count": 7,
   "id": "5eec3fa9-d4b2-4ebc-bb73-743e6a1279ee",
   "metadata": {},
   "outputs": [
    {
     "name": "stdout",
     "output_type": "stream",
     "text": [
      "porche super car\n",
      "lamborgini super car\n"
     ]
    }
   ],
   "source": [
    "obj = scar(\"lamborgini\", \"super car\")\n",
    "obj.display()\n",
    "obj.displayInfo()"
   ]
  }
 ],
 "metadata": {
  "kernelspec": {
   "display_name": "Python 3 (ipykernel)",
   "language": "python",
   "name": "python3"
  },
  "language_info": {
   "codemirror_mode": {
    "name": "ipython",
    "version": 3
   },
   "file_extension": ".py",
   "mimetype": "text/x-python",
   "name": "python",
   "nbconvert_exporter": "python",
   "pygments_lexer": "ipython3",
   "version": "3.11.5"
  }
 },
 "nbformat": 4,
 "nbformat_minor": 5
}
