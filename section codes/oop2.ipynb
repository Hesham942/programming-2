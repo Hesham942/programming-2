{
 "cells": [
  {
   "cell_type": "code",
   "execution_count": 1,
   "id": "03927ff1-8d2c-426d-b36a-6aa7127aad28",
   "metadata": {},
   "outputs": [
    {
     "name": "stdout",
     "output_type": "stream",
     "text": [
      "hesham 10\n"
     ]
    }
   ],
   "source": [
    "class job():\n",
    "    def __init__(self,name,bankid):\n",
    "        self.name=name\n",
    "        self.bankid=bankid\n",
    "j=job(\"hesham\",10)\n",
    "print(j.name,j.bankid)"
   ]
  },
  {
   "cell_type": "code",
   "execution_count": 2,
   "id": "45ceaa00-8ba8-4748-8347-43289847a425",
   "metadata": {},
   "outputs": [
    {
     "name": "stdout",
     "output_type": "stream",
     "text": [
      "7\n"
     ]
    }
   ],
   "source": [
    "class ju():\n",
    "    def __init__(self,name,bankid=\"7\"):\n",
    "        self.name=name\n",
    "        self.bankid=bankid\n",
    "k=ju(\"hesham\")\n",
    "print(k.bankid)"
   ]
  },
  {
   "cell_type": "code",
   "execution_count": 3,
   "id": "c8e5bcbd-e0e2-45d7-9801-abc2976399e8",
   "metadata": {},
   "outputs": [
    {
     "name": "stdout",
     "output_type": "stream",
     "text": [
      "my name is heshamand my bank id is7\n"
     ]
    }
   ],
   "source": [
    "class jg():\n",
    "    def __init__(self,name,bankid=7):\n",
    "        self.name=name\n",
    "        self.bankid=bankid\n",
    "    def __str__(self):\n",
    "        return 'my name is ' +str(self.name) + 'and my bank id is' + str(self.bankid)\n",
    "    def __add__(self,other):\n",
    "        return jg(\"test\",self.bankid+other)\n",
    "k=jg(\"hesham\")\n",
    "print(k)"
   ]
  },
  {
   "cell_type": "code",
   "execution_count": 4,
   "id": "fa1bef95-8d3d-4566-820f-0acfe66877e1",
   "metadata": {},
   "outputs": [
    {
     "name": "stdout",
     "output_type": "stream",
     "text": [
      "10\n"
     ]
    }
   ],
   "source": [
    "c=k+3\n",
    "print(c.bankid)"
   ]
  }
 ],
 "metadata": {
  "kernelspec": {
   "display_name": "Python 3 (ipykernel)",
   "language": "python",
   "name": "python3"
  },
  "language_info": {
   "codemirror_mode": {
    "name": "ipython",
    "version": 3
   },
   "file_extension": ".py",
   "mimetype": "text/x-python",
   "name": "python",
   "nbconvert_exporter": "python",
   "pygments_lexer": "ipython3",
   "version": "3.11.5"
  }
 },
 "nbformat": 4,
 "nbformat_minor": 5
}
