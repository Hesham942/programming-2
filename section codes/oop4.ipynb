{
 "cells": [
  {
   "cell_type": "code",
   "execution_count": 1,
   "id": "52ebe673-62df-4eb2-b42c-5a2acaac591f",
   "metadata": {},
   "outputs": [],
   "source": [
    "class parent():\n",
    "\tdef __init__(self):\n",
    "\t\tself.str1 = \"Samurai\"\n",
    "\t\tprint(\"parent\")\n",
    "\n",
    "\n",
    "class parent2():\n",
    "\tdef __init__(self):\n",
    "\t\tself.str2 = \"Hunter\"\n",
    "\t\tprint(\"parent2\")\n",
    "\n",
    "\n",
    "class child(parent, parent2):\n",
    "\tdef __init__(self):\n",
    "\n",
    "\t\tparent.__init__(self)\n",
    "\t\tparent2.__init__(self)\n",
    "\t\tprint(\"child\")\n",
    "\n",
    "\tdef printStrs(self):\n",
    "\t\tprint(self.str1, self.str2)"
   ]
  },
  {
   "cell_type": "code",
   "execution_count": 2,
   "id": "3f49165e-15c2-47e8-9bca-24559d97da59",
   "metadata": {},
   "outputs": [
    {
     "name": "stdout",
     "output_type": "stream",
     "text": [
      "parent\n",
      "parent2\n",
      "child\n"
     ]
    }
   ],
   "source": [
    "ob = child()\n"
   ]
  },
  {
   "cell_type": "code",
   "execution_count": 3,
   "id": "980b1bb8-0219-42b6-88e4-5519ac5516b6",
   "metadata": {},
   "outputs": [
    {
     "name": "stdout",
     "output_type": "stream",
     "text": [
      "Samurai Hunter\n"
     ]
    }
   ],
   "source": [
    "ob.printStrs()"
   ]
  },
  {
   "cell_type": "code",
   "execution_count": 8,
   "id": "3bd5db31-73fd-4a49-a012-99e0d67880d1",
   "metadata": {},
   "outputs": [],
   "source": [
    "class Base():\n",
    "\tdef __init__(self, name):\n",
    "\t\tself.name = name\n",
    "\tdef getName(self):\n",
    "\t\treturn self.name\n",
    "\n",
    "class Child(Base):\n",
    "\tdef __init__(self, name, age):\n",
    "\t\tBase.__init__(self, name)\n",
    "\t\tself.age = age\n",
    "\n",
    "\t\n",
    "\tdef getAge(self):\n",
    "\t\treturn self.age\n",
    "class GrandChild(Child):\n",
    "\tdef __init__(self, name, age, address):\n",
    "\t\tChild.__init__(self, name, age)\n",
    "\t\tself.address = address\n",
    "\n",
    "\tdef getAddress(self):\n",
    "\t\treturn self.address"
   ]
  },
  {
   "cell_type": "code",
   "execution_count": 9,
   "id": "a435914d-5d36-487a-afe2-0ccae020280b",
   "metadata": {},
   "outputs": [],
   "source": [
    "g = GrandChild(\"racoon\", 18, \"21st.silo\")"
   ]
  },
  {
   "cell_type": "code",
   "execution_count": 10,
   "id": "72b88e98-2b65-45af-9533-9bd9e6a4b43c",
   "metadata": {},
   "outputs": [
    {
     "name": "stdout",
     "output_type": "stream",
     "text": [
      "racoon 18 21st.silo\n"
     ]
    }
   ],
   "source": [
    "print(g.getName(), g.getAge(), g.getAddress())"
   ]
  },
  {
   "cell_type": "code",
   "execution_count": null,
   "id": "f293515f-7250-4484-9b07-614fae6030bd",
   "metadata": {},
   "outputs": [],
   "source": []
  }
 ],
 "metadata": {
  "kernelspec": {
   "display_name": "Python 3 (ipykernel)",
   "language": "python",
   "name": "python3"
  },
  "language_info": {
   "codemirror_mode": {
    "name": "ipython",
    "version": 3
   },
   "file_extension": ".py",
   "mimetype": "text/x-python",
   "name": "python",
   "nbconvert_exporter": "python",
   "pygments_lexer": "ipython3",
   "version": "3.11.5"
  }
 },
 "nbformat": 4,
 "nbformat_minor": 5
}
