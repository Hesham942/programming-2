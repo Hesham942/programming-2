{
 "cells": [
  {
   "cell_type": "code",
   "execution_count": 3,
   "id": "030fcde7-7111-4b5d-8096-7bae93e95e77",
   "metadata": {},
   "outputs": [
    {
     "name": "stdout",
     "output_type": "stream",
     "text": [
      "<__main__.test object at 0x0000027191C09890>\n",
      "<__main__.test object at 0x0000027191C22750>\n",
      "True\n",
      "True\n"
     ]
    }
   ],
   "source": [
    "class test:\n",
    "    def item(self,value):\n",
    "        self.dat=value\n",
    "    def dis(self):\n",
    "        print (self.dat)\n",
    "a=test()\n",
    "b=test()\n",
    "\n",
    "print (a)\n",
    "print (b)\n",
    "\n",
    "print(isinstance(a,test))\n",
    "print(isinstance(b,test))"
   ]
  },
  {
   "cell_type": "code",
   "execution_count": 5,
   "id": "c044333c-b8cb-405e-9222-9e4ad11e0a9e",
   "metadata": {},
   "outputs": [
    {
     "name": "stdout",
     "output_type": "stream",
     "text": [
      "HESHAM\n",
      "13.08\n"
     ]
    }
   ],
   "source": [
    "a.item(\"HESHAM\")\n",
    "b.item(13.08)\n",
    "a.dis()\n",
    "b.dis()"
   ]
  },
  {
   "cell_type": "code",
   "execution_count": null,
   "id": "7eb241da-24f5-43ac-8f7d-7e0fb9fa5320",
   "metadata": {},
   "outputs": [],
   "source": []
  }
 ],
 "metadata": {
  "kernelspec": {
   "display_name": "Python 3 (ipykernel)",
   "language": "python",
   "name": "python3"
  },
  "language_info": {
   "codemirror_mode": {
    "name": "ipython",
    "version": 3
   },
   "file_extension": ".py",
   "mimetype": "text/x-python",
   "name": "python",
   "nbconvert_exporter": "python",
   "pygments_lexer": "ipython3",
   "version": "3.11.5"
  }
 },
 "nbformat": 4,
 "nbformat_minor": 5
}
