{
 "cells": [
  {
   "cell_type": "code",
   "execution_count": null,
   "id": "9e683b94-e335-49fd-a075-990e4338c6ec",
   "metadata": {},
   "outputs": [],
   "source": [
    "class CSStudent:\n",
    "\tstream = 'cse'\t\t\t\t \n",
    "\tdef __init__(self,name,roll):\n",
    "\t\tself.name = name\t\t \n",
    "\t\tself.roll = roll\t\t \n",
    "a = CSStudent('IT', 1)\n",
    "b = CSStudent('IS', 2)\n",
    "\n",
    "print(a.stream) \n",
    "print(b.stream)\n",
    "print(a.name) \n",
    "print(b.name) \n",
    "print(a.roll) \n",
    "print(b.roll) \n",
    "\n",
    "# Class variables can be accessed using class\n",
    "# name also\n",
    "print(CSStudent.stream) # prints \"cse\"\n",
    "\n",
    "\n",
    "# To change the stream for all instances of the class we can change it \n",
    "# directly from the class\n",
    "CSStudent.stream = 'mech'\n",
    "\n",
    "print(a.stream) # prints 'mech'\n",
    "print(b.stream) # prints 'mech'"
   ]
  },
  {
   "cell_type": "code",
   "execution_count": null,
   "id": "816d5705-2526-428a-816c-2f16255163ff",
   "metadata": {},
   "outputs": [],
   "source": [
    "a.stream"
   ]
  },
  {
   "cell_type": "code",
   "execution_count": null,
   "id": "3c1eaa34-c355-47e2-9619-dd263e56637e",
   "metadata": {},
   "outputs": [],
   "source": [
    "b.stream"
   ]
  },
  {
   "cell_type": "code",
   "execution_count": null,
   "id": "e17a37a3-7415-401c-88a6-562fe38da654",
   "metadata": {},
   "outputs": [],
   "source": [
    "a.name "
   ]
  },
  {
   "cell_type": "code",
   "execution_count": null,
   "id": "c98ae869-578b-4d4a-af77-a08766334a9f",
   "metadata": {},
   "outputs": [],
   "source": [
    "b.name"
   ]
  },
  {
   "cell_type": "code",
   "execution_count": null,
   "id": "876b17d2-dfc1-41bb-9bdb-6606ebb9c926",
   "metadata": {},
   "outputs": [],
   "source": []
  },
  {
   "cell_type": "code",
   "execution_count": null,
   "id": "e826d1cf-5492-4e96-a9c1-508d87b6b5eb",
   "metadata": {},
   "outputs": [],
   "source": []
  },
  {
   "cell_type": "code",
   "execution_count": null,
   "id": "66cb5ba7-2434-4e26-9b9b-72a531aca722",
   "metadata": {},
   "outputs": [],
   "source": []
  },
  {
   "cell_type": "code",
   "execution_count": null,
   "id": "f1f50f36-84d2-48c0-ba5a-b791792d9ae1",
   "metadata": {},
   "outputs": [],
   "source": []
  }
 ],
 "metadata": {
  "kernelspec": {
   "display_name": "Python 3 (ipykernel)",
   "language": "python",
   "name": "python3"
  },
  "language_info": {
   "codemirror_mode": {
    "name": "ipython",
    "version": 3
   },
   "file_extension": ".py",
   "mimetype": "text/x-python",
   "name": "python",
   "nbconvert_exporter": "python",
   "pygments_lexer": "ipython3",
   "version": "3.11.5"
  }
 },
 "nbformat": 4,
 "nbformat_minor": 5
}
