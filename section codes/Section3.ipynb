{
 "cells": [
  {
   "cell_type": "code",
   "execution_count": 2,
   "id": "45227d3b-eb61-4d8e-816a-f0198fa2f712",
   "metadata": {},
   "outputs": [
    {
     "name": "stdout",
     "output_type": "stream",
     "text": [
      "0\n",
      "1\n",
      "2\n",
      "3\n"
     ]
    }
   ],
   "source": [
    "def loop():\n",
    "    for x in range (10):\n",
    "        print (x)\n",
    "        if x==3:\n",
    "            return\n",
    "loop()          "
   ]
  },
  {
   "cell_type": "code",
   "execution_count": 5,
   "id": "1392a314-f02d-4e14-8bf2-c98ae9f2ec4f",
   "metadata": {},
   "outputs": [
    {
     "data": {
      "text/plain": [
       "16"
      ]
     },
     "execution_count": 5,
     "metadata": {},
     "output_type": "execute_result"
    }
   ],
   "source": [
    "def twice (x,y):\n",
    "    return (x(x(y)))\n",
    "def pow(y):\n",
    "    return y**2\n",
    "op=twice(pow,2)\n",
    "op"
   ]
  },
  {
   "cell_type": "code",
   "execution_count": 6,
   "id": "d011b3c4-2830-4ca9-be8d-24646fb2d8f0",
   "metadata": {},
   "outputs": [
    {
     "name": "stdout",
     "output_type": "stream",
     "text": [
      "4\n",
      "6\n"
     ]
    }
   ],
   "source": [
    "x = 4\n",
    "def add (x):\n",
    "    x = x + 2\n",
    "    return x\n",
    "y = add(x)\n",
    "print(x)\n",
    "print(y)"
   ]
  },
  {
   "cell_type": "code",
   "execution_count": 8,
   "id": "4fd7d11a-26b0-4637-a93d-256ff772a1a1",
   "metadata": {},
   "outputs": [
    {
     "name": "stdout",
     "output_type": "stream",
     "text": [
      "1\n",
      "1\n",
      "6\n"
     ]
    }
   ],
   "source": [
    "def f1():\n",
    "    global x\n",
    "    x = x + 1\n",
    "    return x\n",
    "\n",
    "def f2():\n",
    "    return x\n",
    "\n",
    "def f3():\n",
    "    x = 5\n",
    "    return x+1\n",
    "\n",
    "\n",
    "x = 0\n",
    "print(f1()) \n",
    "print(f2()) \n",
    "print(f3())"
   ]
  },
  {
   "cell_type": "code",
   "execution_count": null,
   "id": "39eb4781-a4c7-44d6-a749-3261794d1bca",
   "metadata": {},
   "outputs": [],
   "source": []
  }
 ],
 "metadata": {
  "kernelspec": {
   "display_name": "Python 3 (ipykernel)",
   "language": "python",
   "name": "python3"
  },
  "language_info": {
   "codemirror_mode": {
    "name": "ipython",
    "version": 3
   },
   "file_extension": ".py",
   "mimetype": "text/x-python",
   "name": "python",
   "nbconvert_exporter": "python",
   "pygments_lexer": "ipython3",
   "version": "3.11.5"
  }
 },
 "nbformat": 4,
 "nbformat_minor": 5
}
